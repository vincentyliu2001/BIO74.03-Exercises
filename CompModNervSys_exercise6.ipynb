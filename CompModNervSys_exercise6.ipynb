{
  "cells": [
    {
      "cell_type": "markdown",
      "metadata": {
        "id": "view-in-github",
        "colab_type": "text"
      },
      "source": [
        "<a href=\"https://colab.research.google.com/github/vincentyliu2001/BIO74.03-Exercises/blob/main/CompModNervSys_exercise6.ipynb\" target=\"_parent\"><img src=\"https://colab.research.google.com/assets/colab-badge.svg\" alt=\"Open In Colab\"/></a>"
      ]
    },
    {
      "cell_type": "markdown",
      "metadata": {
        "id": "tSawaquoIBf9"
      },
      "source": [
        "# BIOL 74.03 (SP23): Computational Modeling of the Nervous System \n",
        "# Exercise 6: Simulating the Hodgkin-Huxley model in NEURON\n",
        "\n",
        "### Exercise goals\n",
        "\n",
        "1) Learn how to simulate the Hodgkin-Huxley model of the squid giant axon action potential in NEURON\n",
        "\n",
        "2) Understand the time course of the action potential\n",
        "\n",
        "3) Conduct voltage clamp experiments to isolate and analyze the sodium and potassium membrane currents\n",
        "\n",
        "\n",
        "Work through the code below, running each cell, adding code where required, and making sure you understand the output. When you see questions with ***Q:*** preceding them, write your responses in text cells. \n"
      ]
    },
    {
      "cell_type": "code",
      "execution_count": null,
      "metadata": {
        "id": "VWO7brUSssu7"
      },
      "outputs": [],
      "source": [
        "!git clone https://github.com/CompModNervSystem/CompModNervSys-HH1.git # downloads repository into our Google colab session's file system"
      ]
    },
    {
      "cell_type": "markdown",
      "metadata": {
        "id": "oAY15TcyJ8sm"
      },
      "source": [
        "We'll first install neuron like last time"
      ]
    },
    {
      "cell_type": "code",
      "execution_count": null,
      "metadata": {
        "id": "AD3L_l2yJ8sm"
      },
      "outputs": [],
      "source": [
        "%pip install neuron # only need to run this cell once to install \n",
        "                    # neuron in the local jupyter environment"
      ]
    },
    {
      "cell_type": "markdown",
      "metadata": {
        "id": "vkCTxvCHJ8sn"
      },
      "source": [
        "Import the packages we'll be using"
      ]
    },
    {
      "cell_type": "code",
      "execution_count": null,
      "metadata": {
        "id": "ghEvMLWcJ8sn"
      },
      "outputs": [],
      "source": [
        "from neuron import h # all NEURON hoc functions are accessed through h\n",
        "from neuron import gui # if you're running this notebook in a local environment (instead of on google colab), launches the GUI\n",
        "h.load_file('stdrun.hoc') # loads neuron standard hoc library, not always necessary \n",
        "\n",
        "import numpy as np"
      ]
    },
    {
      "cell_type": "markdown",
      "metadata": {
        "id": "GbaS7MyPJ8sn"
      },
      "source": [
        "## Simulating the squid giant axon action potential\n",
        "\n",
        "Let's start replicating the setup of the Nobel-prize winning experiments by Alan Hodgkin and Andrew Huxley\n",
        "\n",
        "We'll follow the modeling steps outlined in Lecture 5:\n",
        "\n",
        "1) Import necessary libraries (already done!)\n",
        "\n",
        "2) Specify model topology\n",
        "\n",
        "3) Specify model geometry\n",
        "\n",
        "4) Specify biophysical properties\n",
        "\n",
        "5) Specify stimulation and recording instrumentation\n",
        "\n",
        "6) Specify simulation settings (time step, duration, initialization conditions)\n",
        "\n",
        "We'll be modeling the isolated squid giant axon preparation, which consisted of a single axon with diameter big enough to stick an intracellular electrode into. \n",
        "\n",
        "Completing steps 2 and 3, fill in the code below creating a NEURON *section* for the axon and assigning its geometrical parameters with a diameter of $500 \\; \\mu m$ and length of $100 \\; \\mu m$ (assume this is a short stretch of axon). We'll use a single segment to discretize this section by setting $nseg$ to 1. And since we're just modeling a single isolated axon, we don't have to worry about connecting to any other sections (e.g., the soma) or other neurons."
      ]
    },
    {
      "cell_type": "code",
      "execution_count": null,
      "metadata": {
        "id": "Ue-5j-I9J8so"
      },
      "outputs": [],
      "source": [
        "axon = h.Section(name='axon')\n",
        "\n",
        "axon.diam =  # diameter in microns\n",
        "axon.L =  # length in microns\n",
        "\n",
        "axon.nseg = 1 # sets number of segments to 1\n"
      ]
    },
    {
      "cell_type": "markdown",
      "metadata": {
        "id": "n1aqFfR2J8so"
      },
      "source": [
        "<span style=\"color:red\"> \n",
        "<b><i>Q1:</b></i> What aspect of Hodgkin and Huxley's experiments allows us to set the number of segments (nseg) to 1?\n",
        "</span>"
      ]
    },
    {
      "cell_type": "markdown",
      "metadata": {
        "id": "61rOMO0qJ8so"
      },
      "source": []
    },
    {
      "cell_type": "markdown",
      "metadata": {
        "id": "BiaC50DtJ8so"
      },
      "source": [
        "Next, we'll assign the biophysical properties to the axon (4). Luckily, NEURON comes built in with a membrane mechanism representing the Hodgkin and Huxley model exactly. For now we'll treat it as an experimental preparation in which we don't have access to any variables Hodgkin and Huxley didn't access to in their experiments.\n",
        "\n",
        "So, we simply `insert` the density mechanism for the HH model, called `hh` in NEURON:"
      ]
    },
    {
      "cell_type": "code",
      "execution_count": null,
      "metadata": {
        "id": "uSFLs1WXJ8so"
      },
      "outputs": [],
      "source": [
        "axon.insert('hh')\n",
        "\n",
        "axon.psection() # check that it's inserted"
      ]
    },
    {
      "cell_type": "markdown",
      "metadata": {
        "id": "i-jpmNbeJ8sp"
      },
      "source": [
        "From running `psection()`, you can see there are some terms in the `density_mechs` dictionary now. Again, for now, we'll imagine we can't just ask our computational model what these variables are. \n",
        "\n",
        "Now, we need to set up our recording and stimulation instrumentation (5).\n",
        "\n",
        "Let's first measure an action potential in our model axon preparation, just like Hodgkin and Huxley did in the first of their series of 5 papers published in 1952. We'll use a \"current clamp\", like in last exercise, to inject a current pulse and measure voltage. We'll create it in the cell below and assign parameters later."
      ]
    },
    {
      "cell_type": "code",
      "execution_count": null,
      "metadata": {
        "id": "krtGSS7TJ8sp"
      },
      "outputs": [],
      "source": [
        "iclamp = h.IClamp(axon(0.5)) # add current clamp to the middle of our secion (x=0.5)\n",
        "\n",
        "# Set up recordings\n",
        "# Each vector is created as a NEURON Vector object (h.Vector) on the right hand side\n",
        "# and saved as a python object (left hand side)\n",
        "t = h.Vector() # time vector\n",
        "t.record(h._ref_t)\n",
        "V = h.Vector() # intracellular voltage (same as membrane potential in our case)\n",
        "V.record(axon(0.5)._ref_v)\n",
        "Ic = h.Vector()\n",
        "Ic.record(iclamp._ref_i)\n"
      ]
    },
    {
      "cell_type": "markdown",
      "metadata": {
        "id": "H7x4O4T6J8sp"
      },
      "source": [
        "Run the cell below to instantiate the `run_and_plot_Iclamp_sim` function, which calls `h.run()` to run the simulation and plots the membrane voltage and current clamp current"
      ]
    },
    {
      "cell_type": "code",
      "execution_count": null,
      "metadata": {
        "id": "lC-BwOKfJ8sp"
      },
      "outputs": [],
      "source": [
        "from plotly.subplots import make_subplots\n",
        "import plotly.graph_objects as go\n",
        "\n",
        "\n",
        "def run_and_plot_Iclamp_sim(t,v,ic):\n",
        "    h.run()\n",
        "    t = t.to_python(np.zeros(len(t)))  # convert to numpy arrays (not actually necessary for plotting)\n",
        "    v = v.to_python(np.zeros(len(v)))\n",
        "    ic = ic.to_python(np.zeros(len(ic)))    \n",
        "    # Plot results\n",
        "    fig = make_subplots(rows=2,cols=1)    \n",
        "    # voltage\n",
        "    fig.add_trace(go.Scatter(x=t,y=v,showlegend=False),row=1,col=1)\n",
        "    fig['layout']['yaxis']['title']='Vm (mV)'\n",
        "    # Current\n",
        "    fig.add_trace(go.Scatter(x=t,y=ic,showlegend=False),row=2,col=1)    \n",
        "    fig['layout']['xaxis2']['title']='time (ms)'        \n",
        "    fig['layout']['yaxis2']['title']='Ic (nA)'\n",
        "    fig.show()\n",
        "    # Matplotlib implementation\n",
        "    # fig = plt.figure()\n",
        "    # ax = fig.add_subplot(211)\n",
        "    # ax.plot(t,v)\n",
        "    # ax.set_ylabel('V (mV)')\n",
        "    # ax = fig.add_subplot(212)\n",
        "    # ax.plot(t,ic)\n",
        "    # ax.set_xlabel('time (ms)')\n",
        "    # ax.set_ylabel('Ic (nA)')"
      ]
    },
    {
      "cell_type": "markdown",
      "metadata": {
        "id": "9uGxfsqjJ8sp"
      },
      "source": [
        "<span style=\"color:red\"> \n",
        "<b><i>Q2:</b></i>Why did we use a current clamp instead of a voltage clamp to measure the action potential?\n",
        "</span>"
      ]
    },
    {
      "cell_type": "markdown",
      "metadata": {
        "id": "fwkqu_yzJ8sp"
      },
      "source": []
    },
    {
      "cell_type": "markdown",
      "metadata": {
        "id": "FMBoVK00J8sq"
      },
      "source": [
        "And for our last step (6), we need to choose our simulation settings. Set the time step to $0.0125 \\; ms$, duration to $10 ms$, and initial voltage to $-62 \\; mV$. Another setting we didn't worry about last time was the temperature, but as good biophysicists and experimentalists, Hodgkin and Huxley made sure to keep careful record of the temperature in their experiments, as it was already known that several aspects of the membrane potential and ion currents were temperature sensitive. Use a temperature of $6.3^{\\circ} \\; C$."
      ]
    },
    {
      "cell_type": "markdown",
      "metadata": {
        "id": "VpNKPQQBJ8sq"
      },
      "source": [
        "<span style=\"color:red\"> \n",
        "<b><i>Q3:</b></i>What aspects of the membrane potential, either that we've covered already or that you would speculate, might be temperature sensitive?\n",
        "</span>"
      ]
    },
    {
      "cell_type": "markdown",
      "metadata": {
        "id": "Lxb5xS4qJ8sq"
      },
      "source": []
    },
    {
      "cell_type": "markdown",
      "metadata": {
        "id": "bA_nh5uUJ8sq"
      },
      "source": [
        "Now try running the simulation, first with the current clamp amplitude set to 0. Then, use the steady state voltage you observe from the plot to choose an initial voltage close to the resting potential of the axon and set the current clamp to deliver a $50 \\; nA$ pulse with a $2 \\; ms$ duration at $5 \\; ms$. "
      ]
    },
    {
      "cell_type": "code",
      "execution_count": null,
      "metadata": {
        "id": "EyylkhN_J8sq"
      },
      "outputs": [],
      "source": [
        "# Fill in the code below\n",
        "\n",
        "iclamp.delay = # ms - delay of current clamp\n",
        "iclamp.dur =  # ms - duration of current clamp stimulus\n",
        "iclamp.amp =  # nA\n",
        "\n",
        "h.v_init = -62 # mV - initial voltage of the model system \n",
        "h.dt = 0.0125  # ms - time step\n",
        "h.celsius = 6.3 # degrees celsius - temperature of simulation\n",
        "h.tstop =  # ms - simulation duration\n",
        "\n",
        "\n",
        "run_and_plot_Iclamp_sim(t,V,Ic)\n"
      ]
    },
    {
      "cell_type": "markdown",
      "metadata": {
        "id": "NOwK6c0iJ8sq"
      },
      "source": [
        "Congratulations, you've just simulated an action potential!"
      ]
    },
    {
      "cell_type": "markdown",
      "metadata": {
        "id": "3fBSDgsOJ8sq"
      },
      "source": [
        "## Voltage clamp experiments\n",
        "\n",
        "So we've established our axon can generate an action potential. Unlike our previous model, we see both a subthreshold *passive* depolarization AND an *active* change in voltage, meaning it deviates from the voltage we'd expected from Ohm's law ($V = IR$) using the current we inject as $I$ and the membrane resistance as $R$. It also persists after the current ends, so some active process is causing this change in membrane potential that goes past $0 \\; mV$. \n",
        "\n",
        "Let's follow in the footsteps of Hodgkin and Huxley and see how changing the voltage alters the ionic currents across the membrane.\n",
        "\n",
        "NEURON has a built in model of a two electrode voltage clamp (which is what HH used), but we'll use the implementation of a more modern single electrode voltage clamp to make things easier (`SEClamp`). \n",
        "\n",
        "This voltage clamp will \"clamp\" the voltage, allowing the membrane current to evolve as it wants to. To measure the membrane current, we'll use a similar approach to HH, which is to measure the current applied by our negative feedback system to maintain the desired clamp voltage, which is equal to the membrane current. \n",
        "\n",
        "`SEClamp` has several settings that allow us to set the amplitude and duration of multiple *steps* in voltage:\n",
        "- dur1, dur2, and dur3 in ms: duration of each voltage step\n",
        "- amp1, amp2, and amp3 in mV: amplitude of each voltage step\n",
        "- rs in MOhm : series resistance of recording electrode (don't worry about this one)\n",
        "- vc in mV: variable tracking the clamp voltage at each point in time\n",
        "- i in nA: variable tracking the current the voltage clamp is applying at each point in time\n",
        "\n",
        "This information can be found in the [documentation]( https://www.neuron.yale.edu/neuron/static/py_doc/modelspec/programmatic/mechanisms/mech.html#SEClamp) \n",
        "\n",
        "Set the voltage clamp parameters to generate the following set of voltage steps:\n",
        "1. 2 ms at -65 mV\n",
        "2. 5 ms at 0 mV\n",
        "3. 5 ms at -65 mV\n"
      ]
    },
    {
      "cell_type": "code",
      "execution_count": null,
      "metadata": {
        "id": "or4yVOTDJ8sr"
      },
      "outputs": [],
      "source": [
        "# Reset out model\n",
        "from neuron import h\n",
        "# Create axon\n",
        "axon = h.Section(name='axon')\n",
        "# Set morphology/discretization\n",
        "axon.diam = 500 # diameter in microns\n",
        "axon.L = 100 # length in microns\n",
        "axon.nseg = 1 # sets number of segments to 1\n",
        "# Set biophysics\n",
        "axon.insert('hh')\n",
        "\n",
        "# Set up instrumentation\n",
        "# Voltage Clamp\n",
        "vclamp = h.SEClamp(axon(0.5)) # add voltage clamp to the middle of our secion (x=0.5)\n",
        "vclamp.dur1 = # ms - duration of initial clamp voltage\n",
        "vclamp.amp1 =  # mV - initial clamp voltage\n",
        "vclamp.dur2 =  # ms - duration of second clamp voltage\n",
        "vclamp.amp2 =  # mV - second clamp voltage\n",
        "vclamp.dur3 =  # ms - duration of final clamp voltage\n",
        "vclamp.amp3 = # ms - amplitude of final clamp voltage (return to start)\n",
        "vclamp.rs = 1e-3\n",
        "# Set up recordings\n",
        "# Each vector is created as a NEURON Vector object (h.Vector) on the right hand side\n",
        "# and saved as a python object (left hand side)\n",
        "t = h.Vector() # time vector\n",
        "t.record(h._ref_t)\n",
        "V = h.Vector() # intracellular voltage (same as membrane potential in our case)\n",
        "V.record(axon(0.5)._ref_v)\n",
        "I = h.Vector() # voltage clamp current (equal to membrane current)\n",
        "I.record(vclamp._ref_i)\n",
        "Vc = h.Vector()\n",
        "Vc.record(vclamp._ref_vc)\n",
        "\n",
        "\n"
      ]
    },
    {
      "cell_type": "markdown",
      "metadata": {
        "id": "tFfZC_EiJ8sr"
      },
      "source": [
        "Run the code below to instantiate a function for plotting a single voltage clamp experiment"
      ]
    },
    {
      "cell_type": "code",
      "execution_count": null,
      "metadata": {
        "id": "Fhn-iLb0J8sr"
      },
      "outputs": [],
      "source": [
        "def run_and_plot_Vclamp_sim1(t,v,i,vc,axon):\n",
        "    # t - time Vector (NEURON object) (ms)\n",
        "    # v - voltage Vector (mV)\n",
        "    # i - current Vector (nA)\n",
        "    # vc - voltage clamp vector (mV)\n",
        "    # axon - NEURON Section of our axon model\n",
        "    # Run single voltage clamp simulation and plot\n",
        "    h.run()\n",
        "    t = t.to_python(np.zeros(len(t)))  # convert to numpy arrays (not actually necessary for plotting)\n",
        "    v = v.to_python(np.zeros(len(v)))\n",
        "    i = 1e-6*i.to_python(np.zeros(len(i)))/(axon(0.5).area()*1e-8) # converts to current density in mA/cm2        \n",
        "    # Plot results\n",
        "    fig = make_subplots(rows=3,cols=1)    \n",
        "    # voltage\n",
        "    fig.add_trace(go.Scatter(x=t,y=v),row=1,col=1)     \n",
        "    fig['layout']['yaxis']['title']='Vm (mV)'\n",
        "    fig.update_layout(yaxis = dict(range=[-80,50]))\n",
        "    # Current injected (converted to membrane current density)\n",
        "    fig.add_trace(go.Scatter(x=t,y=i),row=2,col=1)    \n",
        "    fig['layout']['yaxis2']['title']='Current density (mA/cm2)'    \n",
        "    # Clamp voltage\n",
        "    fig.add_trace(go.Scatter(x=t,y=vc),row=3,col=1) \n",
        "    fig['layout']['yaxis3']['title']='Vc (mV)'\n",
        "    fig['layout']['yaxis3']['title']='Vm (mV)'\n",
        "    fig['layout']['xaxis3']['title']='time (ms)'        \n",
        "    fig.show()\n",
        "\n",
        "    # Matplotlib implementation\n",
        "    # fig = plt.figure()\n",
        "    # ax = fig.add_subplot(311)\n",
        "    # ax.plot(t,v)    \n",
        "    # ax.set_ylabel('V (mV)')\n",
        "    # ax.set_ylim(-80,40)\n",
        "    # ax = fig.add_subplot(312)\n",
        "    # ax.plot(t,i)\n",
        "    # ax.set_xlabel('time (ms)')\n",
        "    # ax.set_ylabel('Current density (mA/cm2)')\n",
        "    # ax = fig.add_subplot(313)\n",
        "    # ax.plot(t,vc)\n",
        "    # ax.set_xlabel('time (ms)')\n",
        "    # ax.set_ylabel('Vc (mV)')\n",
        "    # ax.set_ylim(-80,40)\n"
      ]
    },
    {
      "cell_type": "code",
      "execution_count": null,
      "metadata": {
        "id": "cvyGSsZ3J8sr"
      },
      "outputs": [],
      "source": [
        "h.v_init = vclamp.amp1 # mV - initial voltage of the model system \n",
        "h.dt = 0.0125  # ms - time step\n",
        "h.celsius = 6.3 # degrees celsius - temperature of simulation, set to room temperature\n",
        "# choose a tstop\n",
        "h.tstop =  # ms - simulation duration\n",
        "run_and_plot_Vclamp_sim1(t,V,I,Vc,axon)\n"
      ]
    },
    {
      "cell_type": "markdown",
      "metadata": {
        "id": "jDxLsaVRJ8sr"
      },
      "source": [
        "Now, let's recreate the figure below from the end of the first Hodgkin Huxley paper (Fig. 12). Each line corresponds to the membrane current caused by clamping the voltage to the adjacent number."
      ]
    },
    {
      "cell_type": "code",
      "execution_count": null,
      "metadata": {
        "id": "A0oPAU57J8sr"
      },
      "outputs": [],
      "source": [
        "from IPython.display import Image\n",
        "\n",
        "Image('CompModNervSys-HH1/resources/HH1952a_Fig12.png',width=250)"
      ]
    },
    {
      "cell_type": "markdown",
      "metadata": {
        "id": "bq7CGB3qJ8ss"
      },
      "source": [
        "We'll need a function that can loop through a set of voltage clamp amplitudes and plot the results. The functions below accomplish just that."
      ]
    },
    {
      "cell_type": "code",
      "execution_count": null,
      "metadata": {
        "id": "jlWcTH_jJ8ss"
      },
      "outputs": [],
      "source": [
        "def run_Vclamp_sims(axon,vclamp,v_steps,dt=0.0125,celsius=6.3):\n",
        "    # Run set of voltage clamp simulation and plot\n",
        "    # Set up recordings\n",
        "    # Each vector is created as a NEURON Vector object (h.Vector) on the right hand side\n",
        "    # and saved as a python object (left hand side)\n",
        "    t = h.Vector() # time vector\n",
        "    t.record(h._ref_t)\n",
        "    V = h.Vector() # intracellular voltage (same as membrane potential in our case)\n",
        "    V.record(axon(0.5)._ref_v)\n",
        "    I = h.Vector() # voltage clamp current (equal to membrane current)\n",
        "    I.record(vclamp._ref_i)\n",
        "    Vc = h.Vector()\n",
        "    Vc.record(vclamp._ref_vc)\n",
        "    A = axon(0.5).area()*1e-8 # area in cm2\n",
        "    # simulation settings\n",
        "    h.dt = dt\n",
        "    h.celsius = celsius\n",
        "    h.tstop = vclamp.dur1+vclamp.dur2\n",
        "    V_all = []\n",
        "    I_all = []\n",
        "    Vc_all = []    \n",
        "    for v_step in v_steps:\n",
        "        h.v_init = vclamp.amp1\n",
        "        vclamp.amp2 = v_step \n",
        "        h.run()\n",
        "        V_all.append(V.to_python(np.zeros(len(V))))\n",
        "        I_all.append(1e-6*I.to_python(np.zeros(len(I)))/A) # convert to current density in mA/cm2\n",
        "        Vc_all.append(Vc.to_python(np.zeros(len(Vc))))            \n",
        "    \n",
        "    return I_all, V_all, Vc_all, t\n",
        "\n",
        "def plot_Vclamp_sims(t, I_all,V_all,v_steps,title=None,yaxis_label='I (mA/cm2)'):\n",
        "     # Plot results\n",
        "    fig = make_subplots(rows=2,cols=1)        \n",
        "    for I,V,v_step in zip(I_all,V_all,v_steps):        \n",
        "        # Current injected (converted to membrane current density)\n",
        "        fig.add_trace(go.Scatter(x=t,y=I,showlegend=False,name='{:.1f} mV'.format(v_step)),row=1,col=1)    \n",
        "        fig['layout']['yaxis']['title']=yaxis_label    \n",
        "        # voltage achieved by our clamp (no need to plot desired clamp voltage, we know it's working)\n",
        "        fig.add_trace(go.Scatter(x=t,y=V,showlegend=True,name='{:.1f} mV'.format(v_step)),row=2,col=1)     \n",
        "        fig['layout']['yaxis2']['title']='V (mV)'\n",
        "        fig['layout']['xaxis2']['title']='time (ms)'   \n",
        "        fig.update_layout(yaxis2 = dict(range=[-110,60]))    \n",
        "        if title is not None:\n",
        "            fig.update_layout(title=title)    \n",
        "             \n",
        "    fig.show()"
      ]
    },
    {
      "cell_type": "markdown",
      "metadata": {
        "id": "qTC6-ehNJ8ss"
      },
      "source": [
        "Now let's run a voltage clamp experiment with voltages between $-100 \\; mV$ and $+40 \\; mV$, using the same timing scheme as above. Choose as many steps as you'd like."
      ]
    },
    {
      "cell_type": "code",
      "execution_count": null,
      "metadata": {
        "id": "7WIZ6JGiJ8ss"
      },
      "outputs": [],
      "source": [
        "# Reinitialize Voltage Clamp\n",
        "vclamp = h.SEClamp(axon(0.5)) # add voltage clamp to the middle of our secion (x=0.5)\n",
        "vclamp.dur1 =  # ms - duration of initial clamp voltage\n",
        "vclamp.amp1 =  # mV - initial clamp voltage\n",
        "vclamp.dur2 =  # ms - duration of second clamp voltage\n",
        "vclamp.amp2 =  # mV - second clamp voltage\n",
        "vclamp.dur3 =  # ms - duration of final clamp voltage\n",
        "vclamp.amp1 =  # ms - amplitude of final clamp voltage (return to start)\n",
        "vclamp.rs = 1e-3\n",
        "\n",
        "v_steps =  # your code goes here, make array/list of voltage steps\n",
        "\n",
        "I_all, V_all, Vc_all, t = run_Vclamp_sims(axon,vclamp,v_steps)\n",
        "\n",
        "plot_Vclamp_sims(t, I_all,V_all,v_steps)"
      ]
    },
    {
      "cell_type": "markdown",
      "metadata": {
        "id": "rp_aCmxGJ8ss"
      },
      "source": [
        "<span style=\"color:red\"> \n",
        "<b><i>Q3:</b></i> What happens to the inward current as the voltage steps go to higher and higher positive potentials? Use the interactive plot to get a closer look at the different current traces.\n",
        "</span>"
      ]
    },
    {
      "cell_type": "markdown",
      "metadata": {
        "id": "hap4FeL7J8ss"
      },
      "source": []
    },
    {
      "cell_type": "markdown",
      "metadata": {
        "id": "WG2zPtelJ8ss"
      },
      "source": [
        "Hodgkin and Huxley made the clever observation that if the inward current is mediated by sodium ions, they should be able to not only predict its reversal potential, but also predict how changes in the extracellular sodium concentration should alter it. They did this by realizing they can rearrange the Nernst equation for before and after they change the extracellular sodium concentration to be expressed purely in terms they can experimentally measure and control. Based on the assumption that the total current $I$ was just the sum of the potassium $I_{K}$ and hypothetical sodium current $I_{Na}$, they were able to calculate these separate currents.\n",
        "\n",
        "NEURON doesn't represent the ion concentrations explicitly for the `hh` model; instead the reversal potentials are set directly. Try lowering $E_{Na}$ from its default value (+50 mV) to -5 mV and run the same set of voltage clamp sweeps. "
      ]
    },
    {
      "cell_type": "code",
      "execution_count": null,
      "metadata": {
        "id": "lPBvgC7FJ8ss"
      },
      "outputs": [],
      "source": [
        "axon(0.5).ena = 50 # start at default value\n",
        "\n",
        "I_all, V_all, Vc_all, t = run_Vclamp_sims(axon,vclamp,v_steps)\n",
        "\n",
        "plot_Vclamp_sims(t, I_all,V_all,v_steps)\n",
        "\n",
        "# Your code goes here\n",
        "\n",
        "# lower ena, run simulations and plot\n",
        "\n",
        "# \n",
        "\n",
        "axon(0.5).ena = 50 # reset it for later experiments below\n",
        "\n",
        "\n",
        "\n"
      ]
    },
    {
      "cell_type": "markdown",
      "metadata": {
        "id": "lO-lcGGkJ8ss"
      },
      "source": [
        "<span style=\"color:red\"> \n",
        "<b><i>Q4:</b></i> What happened to the inward current when you changed the sodium reversal potential?\n",
        "</span>"
      ]
    },
    {
      "cell_type": "markdown",
      "metadata": {
        "id": "kCFU26BrJ8st"
      },
      "source": [
        "They also did experiments in which the sodium in the extracullar solution (which was seawater) was replaced entirely with a different cation called choline. They found there was no inward current in choline, not only providing further support for the idea that the inward current was sodium, but also allowing them to calculate the sodium current. We can replicate this experiment by setting the sodium conductance in our model to zero (something they couldn't do at the time). Modern studies of cellular excitability use drugs that can selectively block ion channel conductances, but these hadn't been discovered yet. \n",
        "\n",
        "The name of the parameter for the HH model's peak sodium conductance in NEURON is `gnabar_hh`. Lower it to zero, repeat your voltage clamp experiment and plot. Similar to Hodgkin and Huxley, compute the sodium current by subtracting the currents in the \"choline\" condition from the normal currents and plot using the same plotting function. "
      ]
    },
    {
      "cell_type": "code",
      "execution_count": null,
      "metadata": {
        "id": "TlwAmAiJJ8st"
      },
      "outputs": [],
      "source": [
        "axon(0.5).gnabar_hh = 0.12\n",
        "\n",
        "I_all, V_all, Vc_all, t = run_Vclamp_sims(axon,vclamp,v_steps,)\n",
        "\n",
        "plot_Vclamp_sims(t, I_all,V_all,v_steps,title='I total')\n",
        "\n",
        "# Simualte lowering extracellular by setting gnabar_hh to 0\n",
        "axon(0.5).gnabar_hh = 0 # lowered extracellular Na\n",
        "\n",
        "# Generate list of current vectors I_all2 using run_Vclamp_sims\n",
        "# Your code goes here\n",
        "\n",
        "\n",
        "# Use list comprehension to subtract recordings at each voltage with and without sodium current \n",
        "Ina_est = [I1 - I2 for I1,I2 in zip(I_all,I_all2)]\n",
        "\n",
        "plot_Vclamp_sims(t, Ina_est,Vc_all,v_steps,title='Ina')\n",
        "\n",
        "Ik_est = [I1 - I2 for I1,I2 in zip(I_all,Ina_est)]\n",
        "\n",
        "plot_Vclamp_sims(t, Ik_est,Vc_all,v_steps,title='Ik')\n",
        "\n",
        "axon(0.5).gnabar_hh = 0.12 # reset it for later experiments"
      ]
    },
    {
      "cell_type": "markdown",
      "metadata": {
        "id": "XjXF2srFJ8st"
      },
      "source": [
        "<span style=\"color:red\"> \n",
        "<b><i>Q5:</b></i> Describe the putative sodium and potassium currents we isolated. How do they change in magnitude and direction with voltage? \n",
        "</span>"
      ]
    },
    {
      "cell_type": "markdown",
      "metadata": {
        "id": "BYw1Mr5yJ8st"
      },
      "source": [
        "Below, try writing code similar to the code above to subtract the sodium and potassium current from the total current. \n",
        "\n",
        "<span style=\"color:red\"> \n",
        "<b><i>Q6:</b></i> Is there any current remaining in these traces? Why or why not?\n",
        "</span>"
      ]
    },
    {
      "cell_type": "code",
      "execution_count": null,
      "metadata": {
        "id": "TXte4QvdJ8st"
      },
      "outputs": [],
      "source": [
        "I_rem = [I1 - I2 - I3 for I1,I2,I3 in zip(I_all,Ina_est,Ik_est)]\n",
        "\n",
        "plot_Vclamp_sims(t, I_rem,Vc_all,v_steps,title='I - Ina - Ik')"
      ]
    },
    {
      "cell_type": "markdown",
      "metadata": {
        "id": "SrrvqSHBJ8st"
      },
      "source": [
        "So far, we've visualized ionic currents, but to build up to their biophysical model, Hodgkin and Huxley converted these currents to conductance. To do this, they used the driving force equation we introduced in class as part of the parallel conductance model:\n",
        "\n",
        "$ I_{ion} = g_{ion}(V - E_{ion}) $. \n",
        "\n",
        "Except now, the conductance $g_{ion}$ can change with time! Doing some algebra and plugging in our ions of interest, Na and K, this gives us:\n",
        "\n",
        "$ g_{Na} =  I_{Na}/(V - E_{Na}) $\n",
        "$ g_{K} = I_{K}/(V - E_{K}) $. \n",
        "\n",
        "This was a novel idea at the time, as researchers were still talking about ion fluxes in terms of *permeability*, not conductance. They didn't have access to the intracellular ion concentrations, which is normally needed to compute the Nernst potentials, $E_{Na}$ and $E_{K}$, so they used an empirical method of measuring them: finding the voltage at which the currents \"reversed\" or became zero. \n",
        "\n",
        "\n",
        "Below, compute the sodium and potassium *conductances* using the equations above and the reversal potential parameters incorporated in the model. Plot with the same function used above. (Remember, to get $E_{Na}$ we used `axon(0.5).ena`)\n",
        "\n",
        "<span style=\"color:red\"> \n",
        "<b><i>Bonus question:</b></i> Write code to extract the reversal potential from the sodium and potassium current traces generated above. \n",
        "</span>"
      ]
    },
    {
      "cell_type": "code",
      "execution_count": null,
      "metadata": {
        "id": "Qp897zVZJ8st"
      },
      "outputs": [],
      "source": [
        "Ena = axon(0.5).ena\n",
        "Ek = axon(0.5).ek\n",
        "\n",
        "# loop through each current in the lists to compute the conductances below\n",
        "gNa_all = []\n",
        "gK_all = []\n",
        "for Ii, Vi in zip(Ina_est,V_all):\n",
        "    # your code goes here\n",
        "\n",
        "for Ii,Vi in zip(Ik_est,V_all):\n",
        "    # your code goes here\n",
        "    \n",
        "plot_Vclamp_sims(t, gNa_all,V_all,v_steps,title='gNa',yaxis_label='gNa (S/cm2)')\n",
        "\n",
        "plot_Vclamp_sims(t, gK_all,V_all,v_steps,title='gK',yaxis_label='gK (S/cm2)')"
      ]
    },
    {
      "cell_type": "markdown",
      "metadata": {
        "id": "_bOT_fwiJ8st"
      },
      "source": [
        "<span style=\"color:red\"> \n",
        "<b><i>Q7:</b></i> What key differences do you observe between the estimated sodium and potassium condutances? How are they similar? \n",
        "</span>"
      ]
    },
    {
      "cell_type": "markdown",
      "metadata": {
        "id": "SCesLcMkJ8su"
      },
      "source": [
        "This takes us through the end of the second of their five seminal papers. We measured the action potential of the squid giant axon, and then we used the voltage clamp technique to measure the membrane currents as a function of fixed voltages. Using similar experimental manipulations to Hodgkin and Huxley, we isolated the sodium and potassium currents *and* conductances. Hodgkin and Huxley presented further evidence that these conductances are *voltage-dependent*, which was a critical discovery on the path to discoverying voltage-gated ion channels, the electrical basis of the nervous system, and biophysical models of the brain. Next exercise, we'll look at how these conductances vary with voltage and how their model predicted the existence AND behavior of voltage-gated ion channels before they'd been discovered"
      ]
    }
  ],
  "metadata": {
    "colab": {
      "provenance": [],
      "toc_visible": true,
      "include_colab_link": true
    },
    "kernelspec": {
      "display_name": "cmns_env",
      "language": "python",
      "name": "python3"
    },
    "language_info": {
      "codemirror_mode": {
        "name": "ipython",
        "version": 3
      },
      "file_extension": ".py",
      "mimetype": "text/x-python",
      "name": "python",
      "nbconvert_exporter": "python",
      "pygments_lexer": "ipython3",
      "version": "3.9.16"
    },
    "vscode": {
      "interpreter": {
        "hash": "d0488761690764cced0e7b1e141a742f06ea2f3fa8f54952eb1b54a94bfd6a2a"
      }
    }
  },
  "nbformat": 4,
  "nbformat_minor": 0
}