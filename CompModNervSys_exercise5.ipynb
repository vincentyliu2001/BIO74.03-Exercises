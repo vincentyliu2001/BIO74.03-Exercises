{
  "cells": [
    {
      "cell_type": "markdown",
      "metadata": {
        "id": "view-in-github",
        "colab_type": "text"
      },
      "source": [
        "<a href=\"https://colab.research.google.com/github/vincentyliu2001/BIO74.03-Exercises/blob/main/CompModNervSys_exercise5.ipynb\" target=\"_parent\"><img src=\"https://colab.research.google.com/assets/colab-badge.svg\" alt=\"Open In Colab\"/></a>"
      ]
    },
    {
      "cell_type": "markdown",
      "metadata": {
        "id": "tSawaquoIBf9"
      },
      "source": [
        "# BIOL 74.03 (SP23): Computational Modeling of the Nervous System \n",
        "# Exercise 5: Simulating leaky integrate and fire neuron model in NEURON\n",
        "\n",
        "### Exercise goals\n",
        "\n",
        "1) Become familiar with basic functions of NEURON simulator package\n",
        "\n",
        "2) Simulate leaky integrate and fire neuron model in NEURON by adding spiking mechanism to RC neuron model\n",
        "\n",
        "3) Generate and understand frequency–input plot of neuronal excitability\n",
        "\n",
        "Work through the code below, running each cell, adding code where required, and making sure you understand the output. When you see questions with ***Q:*** preceding them, write your responses in text cells. \n"
      ]
    },
    {
      "cell_type": "code",
      "execution_count": null,
      "metadata": {
        "id": "VWO7brUSssu7"
      },
      "outputs": [],
      "source": [
        "!git clone https://github.com/CompModNervSystem/CompModNervSys-LIFneuron.git # downloads repository into our Google colab session's file system\n",
        "\n"
      ]
    },
    {
      "cell_type": "markdown",
      "metadata": {
        "id": "zscbFZI_yqmP"
      },
      "source": [
        "Since NEURON is an external toolbox (doesn't come prepackaged in Google colab), we'll need to install it at the start of a new session. There are a couple different ways to install python packages, but the easiest is to use the built in package installer `pip`. Normally, this would be done outside of the python environment in a command-line shell environemnt (e.g., from the `Terminal` app on mac/linux or one of the various shell environments on windows). But, we can also do this from within a Jupyter/Colab notebook using the the % sign (aka [magics](https://ipython.readthedocs.io/en/stable/interactive/magics.html)).\n",
        "\n",
        "Run the cell below to install NEURON"
      ]
    },
    {
      "cell_type": "code",
      "execution_count": null,
      "metadata": {
        "id": "bEjZVMcPyqmP"
      },
      "outputs": [],
      "source": [
        "%pip install neuron # only need to run this cell once to install \n",
        "                    # neuron in the local jupyter environment"
      ]
    },
    {
      "cell_type": "markdown",
      "metadata": {
        "id": "cT23h6SLyqmP"
      },
      "source": [
        "# Recapping basics of scripting in NEURON\n",
        "\n",
        "Below, we'll review the basic steps shown in the NEURON Python tutorial (Adapted from https://neuron.yale.edu/neuron/docs/scripting-neuron-basics)"
      ]
    },
    {
      "cell_type": "code",
      "execution_count": null,
      "metadata": {
        "id": "GV60ha7eyqmP"
      },
      "outputs": [],
      "source": [
        "from neuron import h # all NEURON hoc functions are accessed through h\n",
        "from neuron import gui # if you're running this notebook in a local environment (instead of on google colab), launches the GUI\n",
        "h.load_file('stdrun.hoc') # loads neuron standard hoc library, not always necessary \n",
        "import matplotlib.pyplot as plt\n",
        "import numpy as np\n"
      ]
    },
    {
      "cell_type": "markdown",
      "metadata": {
        "id": "2ajGLodYyqmQ"
      },
      "source": [
        "## Step 1: Create a cell"
      ]
    },
    {
      "cell_type": "code",
      "execution_count": null,
      "metadata": {
        "id": "GsYIejmhyqmQ"
      },
      "outputs": [],
      "source": [
        "# Create a single section we'll call 'soma'\n",
        "soma = h.Section(name='soma') "
      ]
    },
    {
      "cell_type": "markdown",
      "metadata": {
        "id": "WxlGC26LyqmQ"
      },
      "source": [
        "When we start to build neuron models with more than one section, a useful function is `h.topology()`, which displays the topological (tree-like) structure of all the sections we created in the model. This tells you how the *sections* are connected to each other and how many *segments* each section has. For our single section model, it's fairly simple, but you can use it to see what you've created so far.  "
      ]
    },
    {
      "cell_type": "code",
      "execution_count": null,
      "metadata": {
        "id": "QmARuAbWyqmQ"
      },
      "outputs": [],
      "source": [
        "h.topology()"
      ]
    },
    {
      "cell_type": "markdown",
      "metadata": {
        "id": "P6lgJX2ryqmQ"
      },
      "source": [
        "A useful `method` (a function that can be called on an object) that exists for each NEURON section is the `psection` method. It returns a Python dictionary displaying the properties of a section."
      ]
    },
    {
      "cell_type": "code",
      "execution_count": null,
      "metadata": {
        "id": "66SNRFVeyqmR"
      },
      "outputs": [],
      "source": [
        "soma.psection()"
      ]
    },
    {
      "cell_type": "markdown",
      "metadata": {
        "id": "Ftd-XNooyqmR"
      },
      "source": [
        "If you wanted to access, for example, the length of this section, you could use the `'morphology'` key and grab the value of `L`:"
      ]
    },
    {
      "cell_type": "code",
      "execution_count": null,
      "metadata": {
        "id": "a08Fmi_IyqmR"
      },
      "outputs": [],
      "source": [
        "print('L = {}'.format(soma.psection()['morphology']['L']))"
      ]
    },
    {
      "cell_type": "markdown",
      "metadata": {
        "id": "1mgqK1emyqmR"
      },
      "source": [
        "<span style=\"color:red\"> <b><i>Q2</b></i>: By inspecting the output of psection, what are the default values NEURON assigned to length, diameter, and cm? The default units for all these quantities can be found <a href=\"https://www.neuron.yale.edu/neuron/static/docs/units/unitchart.html \">here</a> </span>"
      ]
    },
    {
      "cell_type": "markdown",
      "metadata": {
        "id": "GvQGEN-WyqmR"
      },
      "source": [
        "It's usually more efficient to grab some of these values directly, e.g., you can access a section and set it's value directly using dot notation:"
      ]
    },
    {
      "cell_type": "code",
      "execution_count": null,
      "metadata": {
        "id": "uXRF7xbXyqmR"
      },
      "outputs": [],
      "source": [
        "soma.L"
      ]
    },
    {
      "cell_type": "markdown",
      "metadata": {
        "id": "fUOtfGTNyqmS"
      },
      "source": [
        "## Step 2: Set the cell's morphological (geometrical) properties\n",
        "\n",
        "Set the soma's diameter (`diam`) and length (`L`) to $20 \\mu m$. Use `psection` to check that the values have been updated. "
      ]
    },
    {
      "cell_type": "code",
      "execution_count": null,
      "metadata": {
        "id": "jdQjQSq9yqmS"
      },
      "outputs": [],
      "source": [
        "# Your code goes here"
      ]
    },
    {
      "cell_type": "markdown",
      "metadata": {
        "id": "0wnHS_U4yqmS"
      },
      "source": [
        "We'll also specify that this section has a single segment using `nseg`"
      ]
    },
    {
      "cell_type": "code",
      "execution_count": null,
      "metadata": {
        "id": "fAPvlXWWyqmS"
      },
      "outputs": [],
      "source": [
        "soma.nseg = 1"
      ]
    },
    {
      "cell_type": "markdown",
      "metadata": {
        "id": "r1tBU6GHyqmS"
      },
      "source": [
        "You can also probe objects with Python's built in `dir()` function, e.g. for the soma:"
      ]
    },
    {
      "cell_type": "code",
      "execution_count": null,
      "metadata": {
        "id": "B-bzfNUjyqmS"
      },
      "outputs": [],
      "source": [
        "dir(soma)"
      ]
    },
    {
      "cell_type": "markdown",
      "metadata": {
        "id": "nJhZBZW_yqmS"
      },
      "source": [
        "You can also do this to see all the functions, variables, etc. available in NEURON's `h` submodule, which allows us to access NEURON's `hoc` interpreter (basically like the backend). We'll use `textwrap` as in the NEURON Python tutorial to make the display a little cleaner"
      ]
    },
    {
      "cell_type": "code",
      "execution_count": null,
      "metadata": {
        "id": "Fe6n_j-WyqmS"
      },
      "outputs": [],
      "source": [
        "import textwrap\n",
        "print(textwrap.fill(', '.join(dir(h))))"
      ]
    },
    {
      "cell_type": "markdown",
      "metadata": {
        "id": "Erep1HQUyqmT"
      },
      "source": [
        "From the tutorial: \"(The <tt>', '.join(...)</tt> tells Python to build a string out of the list returned by <tt>dir</tt> where the items are separated from each other with a comma and a space. The <tt>textwrap.fill(...)</tt> tells Python to split long lines into multiple lines, by default a maximum of 70 characters long.)\""
      ]
    },
    {
      "cell_type": "markdown",
      "metadata": {
        "id": "vTJN_odAyqmT"
      },
      "source": [
        "Getting help:\n",
        "\n",
        "You can also get help from the documentation (docstrings) using the `help()` function or prefacing the method/function with a question mark:"
      ]
    },
    {
      "cell_type": "code",
      "execution_count": null,
      "metadata": {
        "id": "rdpNkzh3yqmT"
      },
      "outputs": [],
      "source": [
        "help(soma.insert)\n",
        "\n"
      ]
    },
    {
      "cell_type": "markdown",
      "metadata": {
        "id": "Q_kMd9yDyqmT"
      },
      "source": [
        "## Step 3: Add membrane mechanisms\n",
        "\n",
        "Right now our section just a membrane capacitance with no resistance/conductance, so it looks like the circuit below"
      ]
    },
    {
      "cell_type": "code",
      "execution_count": null,
      "metadata": {
        "id": "DO24UyBgyqmT"
      },
      "outputs": [],
      "source": [
        "from IPython.display import Image\n",
        "\n",
        "Image('CompModNervSys-LIFneuron/resources/NEURON_circuit_cm.png',width=250)"
      ]
    },
    {
      "cell_type": "markdown",
      "metadata": {
        "id": "xC9GdIBOyqmT"
      },
      "source": [
        "To start adding *parallel* membrane conductances, we can use a section's `insert` method. We use this to insert *density* mechanisms, which are membrane mechanisms that allow us to distribute a conductance across a section and specify it's density in terms of conductance per unit area (or current per unit area). \n",
        "\n",
        "There are a few built in density mechanisms listed in the [scripting NEURON basics tutorial](https://neuron.yale.edu/neuron/docs/scripting-neuron-basics), shown again below here:\n",
        "\n",
        "<table border=\"1\" class=\"docutils\">\n",
        "<colgroup>\n",
        "<col width=\"26%\" />\n",
        "<col width=\"74%\"  />\n",
        "</colgroup>\n",
        "<tbody valign=\"top\">\n",
        "<tr class=\"row-odd\"><td><tt>pas</tt></td>\n",
        "<td>Passive (“leak”) channel.</td>\n",
        "</tr>\n",
        "<tr class=\"row-even\"><td><tt>extracellular</tt></td>\n",
        "<td>For simulating effects of nonzero extracellular\n",
        "potential, as may happen with leaky patch clamps,\n",
        "or detailed propertes of the myelin sheath.</td>\n",
        "</tr>\n",
        "<tr class=\"row-odd\"><td><tt>hh</tt></td>\n",
        "<td>Hodgkin-Huxley sodium, potassium, and leakage channels.</td>\n",
        "</tr>\n",
        "</tbody>\n",
        "</table>"
      ]
    },
    {
      "cell_type": "markdown",
      "metadata": {
        "id": "B6dFTs0HyqmT"
      },
      "source": [
        "Thousands of additional mechanisms are available as part of published model codes on <a href=\"http://modeldb.yale.edu\">ModelDB</a>. \n",
        "\n",
        "Eventually we'll use these to model voltage-gated ion channel conductances, but for now we'll start with just a passive \"leak\" channel, giving us our leaky integrator from last class. The passive channel mechanism is called `pas`:"
      ]
    },
    {
      "cell_type": "code",
      "execution_count": null,
      "metadata": {
        "id": "gXq2lQ5pyqmT"
      },
      "outputs": [],
      "source": [
        "soma.insert('pas')"
      ]
    },
    {
      "cell_type": "markdown",
      "metadata": {
        "id": "7e8s1fIqyqmT"
      },
      "source": [
        "Using `psection` we can see what parameters this mechanism has. You'll see it's in the `'density_mechs'` dictionary for density mechanisms under `pas`"
      ]
    },
    {
      "cell_type": "code",
      "execution_count": null,
      "metadata": {
        "id": "Sw_DVyh6yqmT"
      },
      "outputs": [],
      "source": [
        "soma.psection()\n",
        "\n",
        "soma.psection()['density_mechs']['pas']\n"
      ]
    },
    {
      "cell_type": "markdown",
      "metadata": {
        "id": "KtxgoCWiyqmT"
      },
      "source": [
        "You can see there are three parameters (keys in the dictionary): `g`, `e`, and `i`. The two parameters we can actually set are `g` and `e`, which are the conductance `g` (in $S/cm^2$) and reversal potential `e` (in $mV$) of this leak channel. `i` is just a variable displaying the current at this moment through this density mechanism, so we can't set it, but we could use it to record the current through this conductance if we wanted. "
      ]
    },
    {
      "cell_type": "markdown",
      "metadata": {
        "id": "-EYnrnj6yqmU"
      },
      "source": [
        "But first...a note about assigning variables to a section: \n",
        "\n",
        "NEURON treats each section as a cable, meaning it allows axial current flow along the cable and through the membrane. Sections are divied into equal size *segments* by setting the `nseg` parameter. You can then access variables like the voltage or passive conductance at any point along your section using the normalized position `x` along the section, which varies from 0 to 1. Remember, this is a numerical model so the values are only actually being solved for at the segment locations, but NEURON linearly interpolates values like voltage between the segment centers within each section. In general, `nseg` should be an odd number, which means accessing (0.5) always gives the value at the middle of the section.\n",
        "\n",
        "We haven't discussed cable theory yet, so for now we'll stick to a single compartment model by setting `nseg=1`, which means the axial current flow can be ignored and the model behaves like a point neuron. \n",
        "\n",
        "To summarize, we access sections by their name and segments by some location on the section.\n",
        "\n",
        "* Section: ``section``\n",
        "* Segment: ``section(loc)``"
      ]
    },
    {
      "cell_type": "markdown",
      "metadata": {
        "id": "G5EOl9OGyqmU"
      },
      "source": [
        "Using the Python `type` function can tell us what a variable is:"
      ]
    },
    {
      "cell_type": "code",
      "execution_count": null,
      "metadata": {
        "id": "v_gF9QGiyqmU"
      },
      "outputs": [],
      "source": [
        "print(\"type(soma) = {}\".format(type(soma)))\n",
        "print(\"type(soma(0.5)) = {}\".format(type(soma(0.5))))"
      ]
    },
    {
      "cell_type": "markdown",
      "metadata": {
        "id": "epvLjFgDyqmU"
      },
      "source": [
        "Segment variables follow the idiom:\n",
        "\n",
        "    section(loc).var\n",
        "\n",
        "And for mechanisms on the segment:\n",
        "\n",
        "    section(loc).mech.var\n",
        "\n",
        "or\n",
        "\n",
        "    section(loc).var_mech\n",
        "\n",
        "The first form is preferred."
      ]
    },
    {
      "cell_type": "markdown",
      "metadata": {
        "id": "OoQNBS-XyqmU"
      },
      "source": [
        "Okay now that we got through all that, use the passive leak channel to model a neuron with a specific membrane resistance $R_{m} = 33 k \\Omega/cm^{2}$, reversal potential $E_{rev}=-65 mV$ and specific membrane capacitance $c_{m} = 1 \\mu F/cm^{2}$. Remember the relationshib between *resistance* and *conductance*. And if you want to use the last idiom (`var_mech`), the mechanism in this case is `pas`."
      ]
    },
    {
      "cell_type": "code",
      "execution_count": null,
      "metadata": {
        "id": "tKjy4UZLyqmU"
      },
      "outputs": [],
      "source": [
        "# Your code goes here"
      ]
    },
    {
      "cell_type": "markdown",
      "metadata": {
        "id": "CLFAuW3NyqmU"
      },
      "source": [
        "Another useful variable we can now access is the `area` parameter, which tells us the surface area of a segment within our section. We already set the length `L` and diameter `diam` above, so now let's see what surface area that gave us. NEURON outputs the area in $\\mu m^{2}$"
      ]
    },
    {
      "cell_type": "code",
      "execution_count": null,
      "metadata": {
        "id": "HcPjZr9uyqmU"
      },
      "outputs": [],
      "source": [
        "soma(0.5).area()"
      ]
    },
    {
      "cell_type": "markdown",
      "metadata": {
        "id": "FWstlvLZyqmU"
      },
      "source": [
        "## Step 4: Insert a stimulus\n",
        "\n",
        "We can add a current injection (also known as a current *clamp* because it clamps the current to the value we decide. This is done with the `IClamp` object, which is a `hoc` object, so we have to access through the `h` submodule. `IClamp` just requires us to specify the *segment* in which we want to insert it. This is a type of *Point Process*, which are just point sources of current. To insert it to the middle segment (our only segment in this case) of the soma, we use:"
      ]
    },
    {
      "cell_type": "code",
      "execution_count": null,
      "metadata": {
        "id": "o1uGaithyqmV"
      },
      "outputs": [],
      "source": [
        "iclamp = h.IClamp(soma(0.5))"
      ]
    },
    {
      "cell_type": "markdown",
      "metadata": {
        "id": "y5T5AHm7yqmV"
      },
      "source": [
        "Below we'll use `dir` to look at the methods and parameters built into `IClamp`"
      ]
    },
    {
      "cell_type": "code",
      "execution_count": null,
      "metadata": {
        "id": "NZBPXP9tyqmV"
      },
      "outputs": [],
      "source": [
        "print([item for item in dir(iclamp) if not item.startswith('__')])"
      ]
    },
    {
      "cell_type": "markdown",
      "metadata": {
        "id": "Xopuy1hoyqmV"
      },
      "source": [
        "The three main properties we'll want to set should be familiar from last exercise: \n",
        "\n",
        "`amp` - the amplitude in $nA$\n",
        "\n",
        "`delay` - the time the current stimulus turns in $ms$\n",
        "\n",
        "`dur` - the duration the current stimulus is held at `amp` (stays on) in $ms$\n",
        "\n",
        "Below, set the delay to $5 \\; ms$, the duration to $20 \\; ms$, and the amplitude to $50 \\; pA$"
      ]
    },
    {
      "cell_type": "code",
      "execution_count": null,
      "metadata": {
        "id": "jdziA9AiyqmV"
      },
      "outputs": [],
      "source": [
        "iclamp.delay = 5\n",
        "iclamp.dur = 20\n",
        "iclamp.amp = 0.05"
      ]
    },
    {
      "cell_type": "markdown",
      "metadata": {
        "id": "YrFsQ6A7yqmV"
      },
      "source": [
        "Another useful method is the `get_segment()` method, which outputs the segment the current clamp is inserted to. Try using it below:"
      ]
    },
    {
      "cell_type": "code",
      "execution_count": null,
      "metadata": {
        "id": "hEwHkOzzyqmV"
      },
      "outputs": [],
      "source": [
        "iclamp.get_segment()"
      ]
    },
    {
      "cell_type": "markdown",
      "metadata": {
        "id": "vVKWLelvyqmV"
      },
      "source": [
        "Now when we use `psection` we can see the `IClamp` has been added to the model in the `point_processes` dictionary. Use it below to check"
      ]
    },
    {
      "cell_type": "code",
      "execution_count": null,
      "metadata": {
        "id": "cd6-zj0-yqmV"
      },
      "outputs": [],
      "source": [
        "soma.psection()"
      ]
    },
    {
      "cell_type": "markdown",
      "metadata": {
        "id": "_Wq47VYhyqmV"
      },
      "source": [
        "## Step 5: Add recording variables\n",
        "\n",
        "Now we could run a simulation but we wouldn't be able to see our output unless we were using NEURON's GUI to visualize the results. Even then, we wouldn't be able to use our simulation results to do any analysis. We can record variables during a simulation using NEURON's `Vector` class (`h.Vector`), which has a useful method called `record`. This class can be tricky to use. To specify a variable to record, we actually have to prefix it's name with `_ref_`. So to record the membrane potential at the soma `soma(0.5).v` and corresponding time points, which is always stored in a hoc variable `h.t` we use:"
      ]
    },
    {
      "cell_type": "code",
      "execution_count": null,
      "metadata": {
        "id": "dLLWxe69yqmW"
      },
      "outputs": [],
      "source": [
        "v = h.Vector() # create an empty vector to store voltage (mV)\n",
        "t = h.Vector() # create an empty vector to store time (ms)\n",
        "v.record(soma(0.5)._ref_v)\n",
        "t.record(h._ref_t)"
      ]
    },
    {
      "cell_type": "markdown",
      "metadata": {
        "id": "CE85AQuGyqmW"
      },
      "source": [
        "Try writing similar code to record the current delivered by our `IClamp`, which we saved to the python variable `iclamp`, below and save it in a vectort called `i_stim`."
      ]
    },
    {
      "cell_type": "code",
      "execution_count": null,
      "metadata": {
        "id": "pvAeIRZVyqmW"
      },
      "outputs": [],
      "source": [
        "# Your code goes here"
      ]
    },
    {
      "cell_type": "markdown",
      "metadata": {
        "id": "9lSXpkD4yqmW"
      },
      "source": [
        "## Step 6: Run the simulation\n",
        "\n",
        "Now we're almost ready to run. We just need to specify our initialization condition (initial voltage), simulation time step, and duration. By default, NEURON will integrate the differential equation describing our system using a different form of the Euler method we discussed called *Backward euler*, which is a more stable and accurate version. There are more advanced integration methods available (Crank-nicholson and variable time step methods), but this should be sufficient for our purposes. \n",
        "\n",
        "Let's use an initial voltage, set by `h.v_init` to our reversal potential, simulation duration, set by `h.tstop` to $20\\; ms$, and time step, step by `h.dt` to $0.1\\; ms$.  "
      ]
    },
    {
      "cell_type": "code",
      "execution_count": null,
      "metadata": {
        "id": "y7ZjyxKeyqmW"
      },
      "outputs": [],
      "source": [
        "# Set simulation parameters\n",
        "h.v_init = # Your code goes here\n",
        "h.tstop = # Your code goes here\n",
        "h.dt = # Your code goes here"
      ]
    },
    {
      "cell_type": "markdown",
      "metadata": {
        "id": "l-nLpaI2yqmW"
      },
      "source": [
        "Okay, now we're finally ready to go. To run the simulation, we can use the `h.run()` NEURON function. The code cell below both runs the model and plots it using `matplotlib`, wrapped in a function called `run_and_plot_sim()`"
      ]
    },
    {
      "cell_type": "code",
      "execution_count": null,
      "metadata": {
        "id": "rbljAtjZyqmW"
      },
      "outputs": [],
      "source": [
        "def run_and_plot_sim(t,v,i_stim):\n",
        "    h.run()\n",
        "       \n",
        "    # Plot results\n",
        "    fig = plt.figure()\n",
        "    ax = fig.add_subplot(211)\n",
        "    ax.plot(t,v)\n",
        "    ax.set_ylabel('V (mV)')\n",
        "    ax = fig.add_subplot(212)\n",
        "    ax.plot(t,i_stim*1e3)\n",
        "    ax.set_xlabel('time (ms)')\n",
        "    ax.set_ylabel('i (pA)')\n",
        "\n",
        "run_and_plot_sim(t,v,i_stim)"
      ]
    },
    {
      "cell_type": "markdown",
      "metadata": {
        "id": "PoUsppSyyqmW"
      },
      "source": [
        "What happens if we set the passive conductance extremely low (effectively turning it off)? Try it and run/plot below with `run_and_plot_sim()`."
      ]
    },
    {
      "cell_type": "code",
      "execution_count": null,
      "metadata": {
        "id": "8VfUY7XxyqmW"
      },
      "outputs": [],
      "source": [
        "soma(0.5).g_pas = 1e-8\n",
        "\n",
        "run_and_plot_sim()"
      ]
    },
    {
      "cell_type": "markdown",
      "metadata": {
        "id": "1jtJMys5yqmX"
      },
      "source": [
        "<span style=\"color:red\"> \n",
        "<b><i>Q2:</b></i> Describe what changed about the voltage dynamics and why, in terms of the model's electrical properties\n",
        "</span>"
      ]
    },
    {
      "cell_type": "markdown",
      "metadata": {
        "id": "yS-E9oHDyqmX"
      },
      "source": [
        "# Simulating the Leaky integrate and fire model in NEURON\n",
        "\n",
        "So far, we've simulated the *passive* properties of neurons. But as we know, as soon as the membrane potential reaches a critical value, known as the *threshold*, neurons fire action potentials (or \"spikes\"). Next class, we'll start introducing the detailed model of the squid axon developed by Alan Hodgkin and Alduous Huxley in 1952, which has mostly held up for over 70 years. In the most basic terms, action potentials consist of a neuron's membrane voltage increasing due to inputs (whether from current injection or synapses), reaching a threshold, rapidly going to a high depolarized value, then returning back to the rest potential and being unable to fire for some period of time, termed the refractory period. \n",
        "\n",
        "People have modeled this \"phenomenologically\" for decades using the leaky integrate and fire neuron model, which simply adds a nonlinearity to this otherwise linear model. Whenever the votlage reaches a threshold (we define), we basically say the cell \"fired\", reset its potential to rest, and hold it there until the refractory period is over. Spikes are treated as an instantaneous event that's not actually captured by the voltage dynamics of the model. We could artificially force the voltage to a value of our choosing (say +40 mV), but typically people are more interested in the spike *timing* when using these models. \n",
        "\n",
        "The model the membrane is the same, we just add the rule described above to the integration scheme\n",
        "\n",
        "$\\frac{dV_{m}(t)}{dt} =  I(t)/C_{m} - \\frac{V_{m}(t) - V_{r}}{R_{m}C_{m}}$\n",
        "\n",
        "\n",
        "Since NEURON is made for biophysical neuron modeling, modeling the LIF neuron model is a little tricky. There's a built in model of integrate and fire neurons in NEURON ([here](https://www.neuron.yale.edu/neuron/static/py_doc/modelspec/programmatic/mechanisms/mech.html#IntFire4)), but the voltage at each point in time is hard to extract since takes advantage of the analytical solution for this model's voltage to speed up simulation and \"skip\" time points between action potentials. \n",
        "\n",
        "So below, I've included a version of this model I wrote in python. After that, I've included a version in NEURON that does the same thing, but  takes advantage of some more advanced functions that we won't cover just yet. "
      ]
    },
    {
      "cell_type": "code",
      "execution_count": null,
      "metadata": {
        "id": "Iq9eCIF0yqmX"
      },
      "outputs": [],
      "source": [
        "def simLIFneuron(dt,tstop,V0,Rm,Cm,Vr,I,Vth,Vreset,refrac_per=2,AP_peak=40):\n",
        "    # dt - time step (ms)\n",
        "    # tstop - simulation duration/last time point (ms)\n",
        "    # V0 - initial membrane voltage (mV)\n",
        "    # Rm - membrane resistance (MOhm)\n",
        "    # Cm - membrane capacitance (nF)\n",
        "    # Vr - rest potential (mV)\n",
        "    # I - arbitrary current vector (nA)\n",
        "    # Vth - Threshold for AP firing (mV)\n",
        "    # refrac_per - refractory period (ms)\n",
        "    # AP_peak - peak AP value to set Vm after crossing threshold\n",
        "    t = np.arange(0,tstop+dt,dt) # time vector (ms)    \n",
        "    spike_times = []\n",
        "    Vm = np.zeros(t.shape)\n",
        "    Vm[0] = V0\n",
        "    for i in range(0,len(t)-1):        \n",
        "        dVm_dt = I[i]/Cm - (Vm[i] - Vr)/(Rm*Cm) # with I/Cm gives V/s (same as mV/ms) with I in nA, Cm in nF\n",
        "                                                     # Rm*Cm gives ms with Rm in MOhm and Cm in nF (1e6*1e-9 = 1e-3 sec)                                                             \n",
        "        if len(spike_times) > 0 and t[i+1] - spike_times[-1] < refrac_per:\n",
        "            Vm[i+1] = Vreset # Fix Vm at Vreset\n",
        "        else:\n",
        "            Vm[i+1] = dt*dVm_dt + Vm[i] # normal evolution of Vm\n",
        "        \n",
        "        if Vm[i+1] > Vth: # Vm crosses threshold for firing \n",
        "            Vm[i+1] = Vreset # set Vm to AP peak to simulate a spike in single time step\n",
        "            spike_times.append(t[i+1])            \n",
        "\n",
        "    return Vm,t,spike_times\n",
        "\n",
        "def genCurrentPulse(dt,tstop,I_del,I_dur,I_amp):\n",
        "    t = np.arange(0,tstop+dt,dt) # time vector (ms)    \n",
        "    I = np.zeros(t.shape) # A\n",
        "    I[np.logical_and(t > I_del, t <= I_del + I_dur)] = I_amp\n",
        "    return I, t"
      ]
    },
    {
      "cell_type": "markdown",
      "metadata": {
        "id": "TecupuBoyqmX"
      },
      "source": [
        "Make a function below to run and plot the output of these \"python\" simulations"
      ]
    },
    {
      "cell_type": "code",
      "execution_count": null,
      "metadata": {
        "id": "IRp6LLejyqmX"
      },
      "outputs": [],
      "source": [
        "def run_and_plot_LIFpy(dt,tstop,V0,Rm,Cm,Vr,Vth,Vreset,I_del,I_dur,I_amp,refrac_per=2,AP_peak=40):\n",
        "    \n",
        "    # Your code goes here\n",
        "\n",
        "    return Vm, spike_times, I, t"
      ]
    },
    {
      "cell_type": "markdown",
      "metadata": {
        "id": "aHZC8tXnyqmX"
      },
      "source": [
        "Now, let's simulate a case of constant current injection into the NEURON model we started building earlier in NEURON.\n",
        "\n",
        "Again, we'll use a specific membrane resistance $R_{m} = 33 k \\Omega/cm^{2}$, reversal potential $E_{rev}=-65 mV$ and specific membrane capacitance $c_{m} = 1 \\mu F/cm^{2}$. You may notice, the surface area of a cylinder with diameter $diam$ and length $L$ equal to its diameter (which we used in NEURON) is the same as a sphere with the same diameter (which we were modeling earlier). This doesn't include the surface area of the caps, which aren't represented in the cable model. So, you can use either case to calculate the surface area for the model and you should get the same surface area as we got earlier. \n",
        "\n",
        "Apply a constant $50 \\; pA$ current injection starting at $5 \\; ms$, this time for $100 \\; ms$, and end your simulation at $150 \\; ms$. Set the initial voltage to the rest potential. \n",
        "\n",
        "For the LIF neuron model, we'll use a threshold of $40 \\; mV$, a refractory period of $4 \\; ms$, a reset potential of our rest potential, and peak AP of $40 \\; ms$ (this latter parameter doesn't matter and is pretty much just for visualization). "
      ]
    },
    {
      "cell_type": "code",
      "execution_count": null,
      "metadata": {
        "id": "jGNrA5utyqmX"
      },
      "outputs": [],
      "source": [
        "# Model parameters\n",
        "# Your code goes here\n",
        "\n",
        "\n",
        "# Stimulation parameters\n",
        "\n",
        "\n",
        "# Simulation parameters\n",
        "\n",
        "\n",
        "Vm, spike_times, I, t = run_and_plot_LIFpy()\n"
      ]
    },
    {
      "cell_type": "markdown",
      "metadata": {
        "id": "O53lHjf5yqmX"
      },
      "source": [
        "To do this in neuron, we'll use a class I created called `LIFcell`. It includes all the relevant methods to generate the cell and store recordings. We'll use it below to do the same thing, but using the NEURON simulator instead. At the moment, it may not be obvious why we'd want to do this, but if you want to add new membrane conductances or connect neurons up into networks with synapses, NEURON's functionality will become really powerful. "
      ]
    },
    {
      "cell_type": "code",
      "execution_count": null,
      "metadata": {
        "id": "UVc3FsRxyqmX"
      },
      "outputs": [],
      "source": [
        "import shutil\n",
        "shutil.copy('CompModNervSys-LIFneuron/LIFcell.py','.') # copy LIF cell to current directory for easier importing"
      ]
    },
    {
      "cell_type": "markdown",
      "metadata": {
        "id": "VuSVXwLAyqmX"
      },
      "source": [
        "We also need to compile a file used by NEURON to compute the membrane mechanism more efficiently, called a 'mod' file. You may need to do this step if you use custom membrane mechanisms downloaded from other models. "
      ]
    },
    {
      "cell_type": "code",
      "execution_count": null,
      "metadata": {
        "id": "G89y-arWyqmX"
      },
      "outputs": [],
      "source": [
        "!nrnivmodl CompModNervSys-LIFneuron/mechanisms # compiles additional membrane mechanism file (mod file) for LIF neuron"
      ]
    },
    {
      "cell_type": "code",
      "execution_count": null,
      "metadata": {
        "id": "aayUFIfWyqmY"
      },
      "outputs": [],
      "source": [
        "from LIFcell import LIFcell\n",
        "\n",
        "# Create cell\n",
        "cell = LIFcell(0)\n",
        "\n",
        "h.topology() # check that our new cell exists"
      ]
    },
    {
      "cell_type": "code",
      "execution_count": null,
      "metadata": {
        "id": "qVn2GBqxyqmY"
      },
      "outputs": [],
      "source": [
        "# Add stimulation\n",
        "iclamp = h.IClamp(cell.soma(0.5))\n",
        "\n",
        "# Set amplitude, delay (start time), and duration\n",
        "iclamp.amp = 0.05 # nA\n",
        "iclamp.delay = 5 # ms\n",
        "iclamp.dur = 100 # ms\n",
        "\n",
        "# Record current clamp again\n",
        "iclamp_rec = h.Vector()\n",
        "iclamp_rec.record(iclamp._ref_i)\n"
      ]
    },
    {
      "cell_type": "code",
      "execution_count": null,
      "metadata": {
        "id": "UUKZUqZ0yqmY"
      },
      "outputs": [],
      "source": [
        "def run_and_plot_LIFnrn(cell,i_stim):\n",
        "    h.run()\n",
        "    t = cell.t.to_python(np.zeros(len(cell.t)))  # convert to numpy arrays (not actually necessary for plotting)\n",
        "    v = cell.soma_v.to_python(np.zeros(len(cell.soma_v)))\n",
        "    spike_times = cell.spike_times.to_python(np.zeros(len(cell.spike_times))) # this one does need to be a numpy array\n",
        "    i_stim = i_stim.to_python(np.zeros(len(i_stim))) # same here, numpy arrays allows multiplying by scalar but NEURON Vectors don't    \n",
        "    # Plot results\n",
        "    fig = plt.figure()\n",
        "    ax = fig.add_subplot(211)\n",
        "    ax.plot(t,v)\n",
        "    ax.vlines(spike_times,ymin=cell.soma(0.5).e_pas,ymax=40,colors='r')\n",
        "    ax.set_ylabel('V (mV)')\n",
        "    ax = fig.add_subplot(212)\n",
        "    ax.plot(t,i_stim*1e3)\n",
        "    ax.set_xlabel('time (ms)')\n",
        "    ax.set_ylabel('i (pA)')\n",
        "\n",
        "    return v, spike_times, i_stim, t\n",
        "\n"
      ]
    },
    {
      "cell_type": "code",
      "execution_count": null,
      "metadata": {
        "id": "WOpQLDD7yqmY"
      },
      "outputs": [],
      "source": [
        "# Set simulation parameters\n",
        "h.dt = 0.1 # ms - time step\n",
        "h.v_init = cell.soma(0.5).e_pas # initial voltage (same as reversal potential)\n",
        "h.tstop = 150 # ms - simulation duration\n",
        "# Set the LIF model parameters\n",
        "h.thresh_SpikeOut = -40\t# (mV)\n",
        "h.refrac_SpikeOut = 4 # (ms)\n",
        "h.vrefrac_SpikeOut = cell.soma.e_pas # (mV) reset potential\n",
        "# Run and plot simulation\n",
        "\n",
        "v, spike_times, i_stim, t = run_and_plot_LIFnrn(cell,iclamp_rec)"
      ]
    },
    {
      "cell_type": "markdown",
      "metadata": {
        "id": "kuR4_JS4yqmY"
      },
      "source": [
        "The results may not be identical due to the different integration methods, but they should be pretty close. Let's use NEURON to see how varying the strength of stimulation alters the firing frequency. \n",
        "\n",
        "Below, in a `for` loop, vary the current amplitude over a reasonable range and measure the average frequency (number of spikes divided by duration of the stimulus). Then, plot the frequency in $Hz$ vs. the current amplitude. This is what's called an *F-I* curve of frequency-input curve. "
      ]
    },
    {
      "cell_type": "code",
      "execution_count": null,
      "metadata": {
        "id": "-Hl5U_oZyqmY"
      },
      "outputs": [],
      "source": [
        "# Your code goes here"
      ]
    },
    {
      "cell_type": "markdown",
      "metadata": {
        "id": "uxr4lK1xyqmY"
      },
      "source": [
        "Now, try modifying the membrane resistance using `cell.soma(0.5).g_pas` to double and half the current value and overlaying the F-I curves of these three models on the same axes.\n",
        "\n"
      ]
    },
    {
      "cell_type": "code",
      "execution_count": null,
      "metadata": {
        "id": "PGudQt-0yqmY"
      },
      "outputs": [],
      "source": [
        "# Your code goes here"
      ]
    },
    {
      "cell_type": "markdown",
      "metadata": {
        "id": "FM7IK9l0yqmY"
      },
      "source": [
        "<span style=\"color:red\"> \n",
        "<b><i>Q2:</b></i> How does changing membrane resistance alter the F-I curve? What might this mean for the neuron's relative excitability in a network, i.e. how easily it can generate action potentials?\n",
        "</span>"
      ]
    }
  ],
  "metadata": {
    "colab": {
      "provenance": [],
      "toc_visible": true,
      "include_colab_link": true
    },
    "kernelspec": {
      "display_name": "cmns_env",
      "language": "python",
      "name": "python3"
    },
    "language_info": {
      "codemirror_mode": {
        "name": "ipython",
        "version": 3
      },
      "file_extension": ".py",
      "mimetype": "text/x-python",
      "name": "python",
      "nbconvert_exporter": "python",
      "pygments_lexer": "ipython3",
      "version": "3.9.16"
    },
    "vscode": {
      "interpreter": {
        "hash": "d0488761690764cced0e7b1e141a742f06ea2f3fa8f54952eb1b54a94bfd6a2a"
      }
    }
  },
  "nbformat": 4,
  "nbformat_minor": 0
}